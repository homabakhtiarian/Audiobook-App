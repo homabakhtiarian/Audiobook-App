{
 "cells": [
  {
   "cell_type": "markdown",
   "metadata": {},
   "source": [
    "# Creating the machine learning algorithm"
   ]
  },
  {
   "cell_type": "markdown",
   "metadata": {},
   "source": [
    "### Importing the relevent libraries"
   ]
  },
  {
   "cell_type": "code",
   "execution_count": 1,
   "metadata": {},
   "outputs": [],
   "source": [
    "import numpy as np\n",
    "import tensorflow as tf"
   ]
  },
  {
   "cell_type": "markdown",
   "metadata": {},
   "source": [
    "### Loading the data"
   ]
  },
  {
   "cell_type": "code",
   "execution_count": 2,
   "metadata": {},
   "outputs": [],
   "source": [
    "npz = np.load('Audiobooks_data_train.npz')\n",
    "train_inputs = npz['inputs'].astype(np.float)\n",
    "train_targets = npz['targets'].astype(np.int)\n",
    "\n",
    "npz = np.load('Audiobooks_data_validation.npz')\n",
    "validation_inputs = npz['inputs'].astype(np.float)\n",
    "validation_targets = npz['targets'].astype(np.int)\n",
    "\n",
    "npz = np.load('Audiobooks_data_test.npz')\n",
    "test_inputs = npz['inputs'].astype(np.float)\n",
    "test_targets = npz['targets'].astype(np.int)"
   ]
  },
  {
   "cell_type": "markdown",
   "metadata": {},
   "source": [
    "### Creating a model"
   ]
  },
  {
   "cell_type": "code",
   "execution_count": 3,
   "metadata": {},
   "outputs": [
    {
     "name": "stdout",
     "output_type": "stream",
     "text": [
      "Train on 3579 samples, validate on 447 samples\n",
      "Epoch 1/100\n",
      "3579/3579 - 1s - loss: 0.5914 - accuracy: 0.6734 - val_loss: 0.5095 - val_accuracy: 0.7338\n",
      "Epoch 2/100\n",
      "3579/3579 - 0s - loss: 0.4679 - accuracy: 0.7650 - val_loss: 0.4471 - val_accuracy: 0.7450\n",
      "Epoch 3/100\n",
      "3579/3579 - 0s - loss: 0.4150 - accuracy: 0.7818 - val_loss: 0.4158 - val_accuracy: 0.7651\n",
      "Epoch 4/100\n",
      "3579/3579 - 0s - loss: 0.3854 - accuracy: 0.8041 - val_loss: 0.4077 - val_accuracy: 0.7651\n",
      "Epoch 5/100\n",
      "3579/3579 - 0s - loss: 0.3661 - accuracy: 0.8111 - val_loss: 0.4077 - val_accuracy: 0.7539\n",
      "Epoch 6/100\n",
      "3579/3579 - 0s - loss: 0.3598 - accuracy: 0.8050 - val_loss: 0.3798 - val_accuracy: 0.7942\n",
      "Epoch 7/100\n",
      "3579/3579 - 0s - loss: 0.3489 - accuracy: 0.8178 - val_loss: 0.3798 - val_accuracy: 0.7696\n",
      "Epoch 8/100\n",
      "3579/3579 - 0s - loss: 0.3414 - accuracy: 0.8215 - val_loss: 0.3783 - val_accuracy: 0.7964\n",
      "Epoch 9/100\n",
      "3579/3579 - 0s - loss: 0.3390 - accuracy: 0.8198 - val_loss: 0.3774 - val_accuracy: 0.7673\n",
      "Epoch 10/100\n",
      "3579/3579 - 0s - loss: 0.3397 - accuracy: 0.8156 - val_loss: 0.3736 - val_accuracy: 0.7785\n",
      "Epoch 11/100\n",
      "3579/3579 - 0s - loss: 0.3311 - accuracy: 0.8248 - val_loss: 0.3777 - val_accuracy: 0.7629\n",
      "Epoch 12/100\n",
      "3579/3579 - 0s - loss: 0.3307 - accuracy: 0.8220 - val_loss: 0.3606 - val_accuracy: 0.8031\n",
      "Epoch 13/100\n",
      "3579/3579 - 0s - loss: 0.3256 - accuracy: 0.8270 - val_loss: 0.3661 - val_accuracy: 0.8009\n",
      "Epoch 14/100\n",
      "3579/3579 - 0s - loss: 0.3247 - accuracy: 0.8259 - val_loss: 0.3683 - val_accuracy: 0.7763\n"
     ]
    },
    {
     "data": {
      "text/plain": [
       "<tensorflow.python.keras.callbacks.History at 0x258338a0cc8>"
      ]
     },
     "execution_count": 3,
     "metadata": {},
     "output_type": "execute_result"
    }
   ],
   "source": [
    "input_size = 10\n",
    "output_size = 2\n",
    "hidden_layer_size = 50\n",
    "\n",
    "model = tf.keras.Sequential([ \n",
    "    tf.keras.layers.Dense(hidden_layer_size, activation = 'relu'),\n",
    "    tf.keras.layers.Dense(hidden_layer_size, activation = 'relu'),\n",
    "    tf.keras.layers.Dense(output_size, activation = 'softmax'),\n",
    "])\n",
    "\n",
    "model.compile(optimizer = 'adam', loss = 'sparse_categorical_crossentropy', metrics = ['accuracy'])\n",
    "\n",
    "batch_size = 100\n",
    "\n",
    "max_epoch = 100\n",
    "\n",
    "early_stopping = tf.keras.callbacks.EarlyStopping(patience=2)\n",
    "\n",
    "# The fit(), contains a method called callbacks. Callbacks are functions called at certain points during model training. \n",
    "# There are different callbacks. One of these is EarlyStopping. \n",
    "# By default this object will monitor the validation loss and stop the training process the first time the validation loss starts increasing.\n",
    "model.fit(train_inputs,\n",
    "          train_targets,\n",
    "          epochs = max_epoch, \n",
    "          batch_size = batch_size,\n",
    "          validation_data = (validation_inputs, validation_targets), \n",
    "          callbacks = [early_stopping,],\n",
    "          verbose = 2)"
   ]
  },
  {
   "cell_type": "markdown",
   "metadata": {},
   "source": [
    "### Testing the model"
   ]
  },
  {
   "cell_type": "code",
   "execution_count": 4,
   "metadata": {},
   "outputs": [
    {
     "name": "stdout",
     "output_type": "stream",
     "text": [
      "448/448 [==============================] - 0s 636us/sample - loss: 0.3916 - accuracy: 0.7857\n"
     ]
    }
   ],
   "source": [
    "test_loss, test_accuracy = model.evaluate(test_inputs, test_targets)"
   ]
  },
  {
   "cell_type": "code",
   "execution_count": 5,
   "metadata": {},
   "outputs": [
    {
     "name": "stdout",
     "output_type": "stream",
     "text": [
      "\n",
      "Test loss : 0.39. Test accuracy: 78.57%\n"
     ]
    }
   ],
   "source": [
    "print('\\nTest loss : {0:.2f}. Test accuracy: {1:.2f}%'.format(test_loss, test_accuracy * 100))"
   ]
  }
 ],
 "metadata": {
  "kernelspec": {
   "display_name": "Python 3",
   "language": "python",
   "name": "python3"
  },
  "language_info": {
   "codemirror_mode": {
    "name": "ipython",
    "version": 3
   },
   "file_extension": ".py",
   "mimetype": "text/x-python",
   "name": "python",
   "nbconvert_exporter": "python",
   "pygments_lexer": "ipython3",
   "version": "3.7.6"
  }
 },
 "nbformat": 4,
 "nbformat_minor": 4
}
